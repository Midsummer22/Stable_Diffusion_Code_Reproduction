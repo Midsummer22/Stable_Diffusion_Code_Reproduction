{
 "cells": [
  {
   "cell_type": "code",
   "execution_count": 26,
   "id": "148e0b1b-ec0e-46a4-a0c9-e9f95392f135",
   "metadata": {},
   "outputs": [],
   "source": [
    "import torch\n",
    "from PIL import Image\n",
    "from torch import autocast\n",
    "from diffusers import StableDiffusionPipeline, DPMSolverMultistepScheduler,DDIMScheduler, StableDiffusionImg2ImgPipeline"
   ]
  },
  {
   "cell_type": "code",
   "execution_count": 34,
   "id": "571fa512-c304-4a10-a771-603d5839a645",
   "metadata": {},
   "outputs": [],
   "source": [
    "model_id = \"stable-diffusion-v1-5\"\n",
    "pipe = pipe = StableDiffusionImg2ImgPipeline.from_pretrained(model_id, torch_dtype=torch.float16)"
   ]
  },
  {
   "cell_type": "code",
   "execution_count": 27,
   "id": "f1518619-b3a0-4b07-9fa4-d50e598ccfba",
   "metadata": {},
   "outputs": [],
   "source": [
    "init_image = Image.open(\"TaylorSwift.png\").convert(\"RGB\")"
   ]
  },
  {
   "cell_type": "code",
   "execution_count": 28,
   "id": "f62f895b-4ce9-460c-a58f-f54814168925",
   "metadata": {},
   "outputs": [
    {
     "name": "stderr",
     "output_type": "stream",
     "text": [
      "The config attributes {'clip_sample_range': 1.0} were passed to DDIMScheduler, but are not expected and will be ignored. Please verify your scheduler_config.json configuration file.\n"
     ]
    }
   ],
   "source": [
    "#pipe.scheduler = DPMSolverMultistepScheduler.from_config(pipe.scheduler.config)\n",
    "pipe.scheduler = DDIMScheduler.from_config(pipe.scheduler.config)\n",
    "pipe = pipe.to(\"cuda\")"
   ]
  },
  {
   "cell_type": "code",
   "execution_count": 30,
   "id": "c5d7e431-4cd4-4a79-925d-6f576462ab28",
   "metadata": {},
   "outputs": [
    {
     "name": "stderr",
     "output_type": "stream",
     "text": [
      "100%|██████████| 20/20 [00:02<00:00,  7.26it/s]\n"
     ]
    }
   ],
   "source": [
    "prompt = \"a girl\"\n",
    "negative_prompt = \"nsfw,paintings, sketches, (worst quality:2), (low quality:2), (normal quality:2), lowres, normal quality, ((monochrome)), ((grayscale)), skin spots, acnes, skin blemishes, age spot, (outdoor:1.6), manboobs, backlight,(ugly:1.331), (duplicate:1.331), (morbid:1.21), (mutilated:1.21), (tranny:1.331), mutated hands, (poorly drawn hands:1.331), blurry, (bad anatomy:1.21), (bad proportions:1.331), extra limbs, (disfigured:1.331), (more than 2 nipples:1.331), (missing arms:1.331), (extra legs:1.331), (fused fingers:1.61051), (too many fingers:1.61051), (unclear eyes:1.331), bad hands, missing fingers, extra digit, (futa:1.1), bad body, NG_DeepNegative_V1_75T,pubic hair, glans\"\n",
    "with autocast(\"cuda\"):\n",
    "    image = pipe(prompt, \n",
    "                 negative_prompt=negative_prompt,\n",
    "                 image=init_image,\n",
    "                 num_inference_steps=25,\n",
    "                 strength=0.8,\n",
    "                 guidance_scale=7.5).images[0]"
   ]
  },
  {
   "cell_type": "code",
   "execution_count": 31,
   "id": "5a344a79-31e7-430b-902c-5f02b48a36fd",
   "metadata": {},
   "outputs": [],
   "source": [
    "image.save(\"jpg2jpg.png\")"
   ]
  },
  {
   "cell_type": "code",
   "execution_count": null,
   "id": "6c949947-67a1-4813-9470-6a1cc1e70e7d",
   "metadata": {},
   "outputs": [],
   "source": []
  }
 ],
 "metadata": {
  "kernelspec": {
   "display_name": "myconda",
   "language": "python",
   "name": "myconda"
  },
  "language_info": {
   "codemirror_mode": {
    "name": "ipython",
    "version": 3
   },
   "file_extension": ".py",
   "mimetype": "text/x-python",
   "name": "python",
   "nbconvert_exporter": "python",
   "pygments_lexer": "ipython3",
   "version": "3.9.13"
  }
 },
 "nbformat": 4,
 "nbformat_minor": 5
}
